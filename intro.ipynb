{
 "cells": [
  {
   "cell_type": "markdown",
   "metadata": {},
   "source": [
    "# Random Forest Overview"
   ]
  },
  {
   "cell_type": "markdown",
   "metadata": {},
   "source": [
    "https://www.datacamp.com/tutorial/random-forests-classifier-python"
   ]
  },
  {
   "cell_type": "markdown",
   "metadata": {},
   "source": [
    "* A random forest is a set of randomly constructed decision trees\n",
    "* Each decision tree is constructed from an independent random sample of training data.\n",
    "* In the case of <u>classification</u>, we allow each decision tree to classify individually, and then vote for that classification. The most popular classification is the final output.\n",
    "* In the case of <u>regression</u>, we allow each decision tree to output its own prediction, and then output the average of these predictions."
   ]
  },
  {
   "cell_type": "markdown",
   "metadata": {},
   "source": [
    "PROS\n",
    "* Since this is a random <u>forest</u> of many decision trees, the model is less sensitive to bias (e.g. over-fitting)\n",
    "* The random forest model can be used in classification <u>and</u> regression, we just have to change between voting and averaging\n",
    "* We can use relative feature importance (feature = exogenous variable) to drop less-contributing features, thereby increasing accuracy\n",
    "\n",
    "CONS\n",
    "* Since we have hundreds of decision trees, each predicting individually and then voting/averaging all together, the model can be slow\n",
    "* It is hard to transform our model into a clear set of rules for classification, since we have hundreds of decision trees (rather than one decision tree that can be easily interpreted)"
   ]
  },
  {
   "cell_type": "markdown",
   "metadata": {},
   "source": [
    "* Random Forest is an example of an <u>ensemble</u> algorithm: an algorithm that combines multiple models (each decision tree)\n",
    "* There are two methods of ensemble - <u>bagging</u> and <u>boosting</u>. Random Forest uses bagging\n",
    "    * <u>Bagging</u>: create different training subsets from sample training data (with replacement), final prediction/classification comes from voting\n",
    "    * <u>Boosting</u>: a sequential model that combines weak learners to create a strong learner - the final model is the most accurate"
   ]
  },
  {
   "cell_type": "markdown",
   "metadata": {},
   "source": [
    "## Bagging / Bootstrap Aggregation"
   ]
  },
  {
   "cell_type": "markdown",
   "metadata": {},
   "source": [
    "1. We begin with the original training data\n",
    "2. We randomly sample with replacement from the original training data to create multiple training subsets, each yields a model - <u>Bootstrapping</u>\n",
    "3. Each training subset is used to create and train a decision tree - <u>Aggregation</u>\n",
    "4. We then vote/average the results of each decision tree using test data to create the final output - <u>Ensemble Classifier</u>"
   ]
  },
  {
   "cell_type": "markdown",
   "metadata": {},
   "source": [
    "## Hyperparameters"
   ]
  },
  {
   "cell_type": "markdown",
   "metadata": {},
   "source": [
    "Increase Predictive Power\n",
    "1. $n_{estimators}$ = number of trees in the random forest\n",
    "2. $max_{features}$ = max number of exogenous variables considered when splitting a node in each decision tree\n",
    "3. $min_{sample-leaf}$ = minimum number of leaves required to split an internal node\n",
    "\n",
    "Increase Speed\n",
    "1. $n_{jobs}$ = how many processors the engine is allowed to use. If -1, there is no limit\n",
    "2. $random_{state}$ = controls randomness of the sampling process. Given all other parameters/dataset is the same, the model will produce identical results if the same $random_{state}$ is used\n",
    "3. $oob_{score}$ = *Out of the Bag*; one-third of the sample not used to train, but instead to test the model's performance"
   ]
  },
  {
   "cell_type": "markdown",
   "metadata": {},
   "source": [
    "# Creating each Decision Tree"
   ]
  },
  {
   "cell_type": "markdown",
   "metadata": {},
   "source": [
    "https://towardsdatascience.com/decision-trees-in-machine-learning-641b9c4e8052"
   ]
  },
  {
   "cell_type": "markdown",
   "metadata": {},
   "source": [
    "*Indeed, the easy way to implement a random forest algorithm is to import the RandomForestClassifier or RandomForestRegressor from the scikit-learn library in Python. This abstracts the process of creating each individual decision tree.*\n",
    "\n",
    "*That being said, let's make the decision trees ourselves. Who doesn't like a challenge...*\n",
    "\n",
    "So, how does each tree look? Below is a simple example from the titanic dataset"
   ]
  },
  {
   "cell_type": "code",
   "execution_count": 2,
   "metadata": {},
   "outputs": [
    {
     "data": {
      "image/png": "[encoded data removed]",
      "text/plain": [
       "<IPython.core.display.Image object>"
      ]
     },
     "execution_count": 2,
     "metadata": {},
     "output_type": "execute_result"
    }
   ],
   "source": [
    "from IPython.display import Image\n",
    "Image(filename='./pictures/1_XMId5sJqPtm8-RIwVVz2tg.png')"
   ]
  },
  {
   "cell_type": "markdown",
   "metadata": {},
   "source": [
    "At each node, we have a feature/exogenous variables: *sex, age, number of siblings/spouses*. Some of these features are discrete (sex) and others continuous (age, sibsp). Depending on the value, we traverse to the next node (internal or leaf) along the corresponding edge. The classification/prediction that the tree outputs is dependent on the leaf node that we arrive at."
   ]
  },
  {
   "cell_type": "markdown",
   "metadata": {},
   "source": [
    "*That being said, how do we know which features to use as well as the conditions for traversing an edge?*"
   ]
  },
  {
   "cell_type": "markdown",
   "metadata": {},
   "source": [
    "## Recursive Binary Splitting - A Greedy Algorithm"
   ]
  },
  {
   "cell_type": "markdown",
   "metadata": {},
   "source": [
    "We begin by including all features (exogenous variables) in the decision tree and use various conditions to split each node. We then test these split conditions using a cost function. The split conditions that yield the lowest cost are used in the final tree."
   ]
  },
  {
   "cell_type": "markdown",
   "metadata": {},
   "source": [
    "Assume there are $k$ features to select from. Therefore, at the root node, we have $k$ options for the feature used to split. We calculate the accuracy cost (using the cost function) for each of the $k$ options, and select the feature with the lowest cost. This is the feature used to split at the root node.\n",
    "\n",
    "We recursively repeat this for each branch in the tree.\n",
    "\n",
    "Because the feature at the root node yielded the lowest cost, the first feature in the tree is the best predictor/classifier in the dataset."
   ]
  },
  {
   "cell_type": "markdown",
   "metadata": {},
   "source": [
    "## The Cost Function"
   ]
  },
  {
   "cell_type": "markdown",
   "metadata": {},
   "source": [
    "In the case of <u>Regression</u>: $$Cost = \\sum{(y - \\hat{y})^2}$$ where y is the true value and $\\hat{y}$ is the prediction. \n",
    "\n",
    "An alternative cost function that can be used focuses on minimizing the standard deviation, rather than the squared error."
   ]
  },
  {
   "cell_type": "markdown",
   "metadata": {},
   "source": [
    "In the case of <u>Classification</u>: $$G = \\sum{pk(1-pk)}$$\n",
    "\n",
    "$G$ is the gini score of splitting by a certain feature. $pk$ is the proportion of same class inputs within a group, $0 \\leq pk \\leq 1$\n",
    "\n",
    "Say we split by sibsp in the root node. Since sibsp is not as good of a classifier as sex, the proportion of same class inputs will be closer to 0.5. In other words, if we split by sibsp first, the proportion of 'died' vs. 'survived' in the left and right branch will be close to 50/50.\n",
    "\n",
    "Now, assume we split by sex first. Since sex is a better classifier, each branch will have a higher proportion of same-class inputs. In other words, the 'male' branch will have a high proportion of 'died' output and the 'female' branch will have a low proportion of 'died' output.\n",
    "\n",
    "To be mathematical, as $pk$ --> 0 or 1, G --> 0. Moreover, $pk$ --> 0 or 1 if a better classifier is selected (because there will be a higher or lower proportion of the same class, not a 50/50 split). If the classifier is bad, then $pk$ --> 0.5 (50/50 split of 'died' vs. 'survived').\n",
    "\n",
    "Therefore, a lower gini score indicates a better classifier."
   ]
  },
  {
   "cell_type": "markdown",
   "metadata": {},
   "source": [
    "## Pruning"
   ]
  },
  {
   "cell_type": "markdown",
   "metadata": {},
   "source": [
    "<u>Pruning</u> is the removal of branches that are split based on features with low importance. By doing this, we reduce the height of the tree without sacrificing a good classification feature.\n",
    "\n",
    "One method of pruning is <u>Reduced Error Pruning</u>: \n",
    "* We begin at the lowest level internal nodes (nodes that have an associated feature) and work our way up\n",
    "* For each node, we remove the subtree below it, thus making the node a leaf node. This new leaf node is assigned whatever was the most popular class at that node \n",
    "* If the removal of a node's subtree (and re-assignment of the node as a leaf node) does not hurt the performance of the overall tree, the node is pruned.\n",
    "\n",
    "Another method of pruning is *Cost Complexity Pruning*, which uses a learning parameter ($\\alpha$) to determine if a node can be removed based on the size of its sub-tree."
   ]
  },
  {
   "cell_type": "markdown",
   "metadata": {},
   "source": [
    "# Decision Tree to Random Forest"
   ]
  },
  {
   "cell_type": "markdown",
   "metadata": {},
   "source": [
    "Once we are able to construct a decision tree, we randomly sample from the training data (as was described earlier) and construct a decision tree with each strata. Then, all that is left to do is to let each decision tree classify/predict and vote/average. "
   ]
  }
 ],
 "metadata": {
  "kernelspec": {
   "display_name": "Python 3.9.6 64-bit",
   "language": "python",
   "name": "python3"
  },
  "language_info": {
   "codemirror_mode": {
    "name": "ipython",
    "version": 3
   },
   "file_extension": ".py",
   "mimetype": "text/x-python",
   "name": "python",
   "nbconvert_exporter": "python",
   "pygments_lexer": "ipython3",
   "version": "3.9.6"
  },
  "orig_nbformat": 4,
  "vscode": {
   "interpreter": {
    "hash": "213c7e2037ef6b2a20c19d597b02c10a1d7071ecb66c3155fc7058d00ffab593"
   }
  }
 },
 "nbformat": 4,
 "nbformat_minor": 2
}
